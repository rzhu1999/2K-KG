{
 "cells": [
  {
   "cell_type": "code",
   "execution_count": 1,
   "metadata": {},
   "outputs": [],
   "source": [
    "import jsonlines\n",
    "from collections import defaultdict\n"
   ]
  },
  {
   "cell_type": "code",
   "execution_count": 19,
   "metadata": {},
   "outputs": [],
   "source": [
    "nba_list = []\n",
    "seen = set()\n",
    "team_dict = defaultdict(list)\n",
    "\n",
    "with jsonlines.open('player.jsonlines') as f:\n",
    "\n",
    "    for line in f.iter():\n",
    "        label = line['full_name']\n",
    "        thumbnail = line['avatar_link']\n",
    "        player_id = \"http://dbpedia.org/resource/\" + label.replace(' ', '_')\n",
    "        birthYear = int('19' + line['born'][-2:])\n",
    "        salary = line['salary']\n",
    "        position = line['position']\n",
    "\n",
    "        team = line['team']\n",
    "        team_id = \"http://dbpedia.org/resource/\" + team.replace(' ', '_')\n",
    "\n",
    "        if label not in seen:\n",
    "            nba_list.append({\n",
    "                \"_id\": player_id,\n",
    "                \"label\": label,\n",
    "                \"_type\": \"Person\",\n",
    "                \"birthYear\": birthYear,\n",
    "                \"salary\": salary,\n",
    "                \"team\": [team_id],\n",
    "                \"position\": position,\n",
    "                \"thumbnail\": thumbnail\n",
    "            })\n",
    "\n",
    "        team_dict[team].append(player_id)\n",
    "            \n",
    "        seen.add(label)\n",
    "\n",
    "    for team in team_dict:\n",
    "        team_id = \"http://dbpedia.org/resource/\" + team.replace(' ', '_')\n",
    "\n",
    "        nba_list.append({\n",
    "                \"_id\": team_id,\n",
    "                \"_type\": \"Team\",\n",
    "                \"label\": team,\n",
    "                \"players\": team_dict[team]\n",
    "            })"
   ]
  },
  {
   "cell_type": "code",
   "execution_count": 20,
   "metadata": {},
   "outputs": [],
   "source": [
    "import json\n",
    "\n",
    "with open('nba.json', 'w') as fout:\n",
    "    json.dump(nba_list , fout)"
   ]
  }
 ],
 "metadata": {
  "kernelspec": {
   "display_name": "Python 3.8.6 64-bit",
   "language": "python",
   "name": "python3"
  },
  "language_info": {
   "codemirror_mode": {
    "name": "ipython",
    "version": 3
   },
   "file_extension": ".py",
   "mimetype": "text/x-python",
   "name": "python",
   "nbconvert_exporter": "python",
   "pygments_lexer": "ipython3",
   "version": "3.8.6"
  },
  "orig_nbformat": 4,
  "vscode": {
   "interpreter": {
    "hash": "949777d72b0d2535278d3dc13498b2535136f6dfe0678499012e853ee9abcab1"
   }
  }
 },
 "nbformat": 4,
 "nbformat_minor": 2
}
