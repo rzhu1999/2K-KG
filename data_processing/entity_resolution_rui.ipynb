{
 "cells": [
  {
   "cell_type": "markdown",
   "metadata": {},
   "source": [
    "## Entity Resolution - Record Linkage"
   ]
  },
  {
   "cell_type": "markdown",
   "metadata": {},
   "source": [
    "Problem: After fetching nba players info, we found that some players' name do not match. For example, RJ Barret vs R.J Barret, Terry Rozier vs Terry Rozier III, etc."
   ]
  },
  {
   "cell_type": "markdown",
   "metadata": {},
   "source": [
    "### JSON to CSV"
   ]
  },
  {
   "cell_type": "code",
   "execution_count": 1,
   "metadata": {},
   "outputs": [],
   "source": [
    "import pandas as pd\n",
    "\n",
    "with open('../data_backup/hoopshype.json', encoding='utf-8') as inputfile:\n",
    "    df1 = pd.read_json(inputfile)"
   ]
  },
  {
   "cell_type": "code",
   "execution_count": 2,
   "metadata": {},
   "outputs": [
    {
     "data": {
      "text/html": [
       "<div>\n",
       "<style scoped>\n",
       "    .dataframe tbody tr th:only-of-type {\n",
       "        vertical-align: middle;\n",
       "    }\n",
       "\n",
       "    .dataframe tbody tr th {\n",
       "        vertical-align: top;\n",
       "    }\n",
       "\n",
       "    .dataframe thead th {\n",
       "        text-align: right;\n",
       "    }\n",
       "</style>\n",
       "<table border=\"1\" class=\"dataframe\">\n",
       "  <thead>\n",
       "    <tr style=\"text-align: right;\">\n",
       "      <th></th>\n",
       "      <th>_id</th>\n",
       "      <th>label</th>\n",
       "      <th>_type</th>\n",
       "      <th>birthYear</th>\n",
       "      <th>salary</th>\n",
       "      <th>playsFor</th>\n",
       "      <th>position</th>\n",
       "      <th>thumbnail</th>\n",
       "      <th>hasPlayers</th>\n",
       "    </tr>\n",
       "  </thead>\n",
       "  <tbody>\n",
       "    <tr>\n",
       "      <th>0</th>\n",
       "      <td>http://dbpedia.org/resource/Giannis_Antetokounmpo</td>\n",
       "      <td>Giannis Antetokounmpo</td>\n",
       "      <td>Person</td>\n",
       "      <td>1994.0</td>\n",
       "      <td>$42,492,492</td>\n",
       "      <td>http://dbpedia.org/resource/Milwaukee_Bucks</td>\n",
       "      <td>F-G</td>\n",
       "      <td>https://cdn.hoopshype.com/i/5d/8b/62/giannis-a...</td>\n",
       "      <td>NaN</td>\n",
       "    </tr>\n",
       "    <tr>\n",
       "      <th>1</th>\n",
       "      <td>http://dbpedia.org/resource/Jayson_Tatum</td>\n",
       "      <td>Jayson Tatum</td>\n",
       "      <td>Person</td>\n",
       "      <td>1998.0</td>\n",
       "      <td>$30,351,780</td>\n",
       "      <td>http://dbpedia.org/resource/Boston_Celtics</td>\n",
       "      <td>F</td>\n",
       "      <td>https://cdn.hoopshype.com/i/f0/1c/c3/jayson-ta...</td>\n",
       "      <td>NaN</td>\n",
       "    </tr>\n",
       "    <tr>\n",
       "      <th>2</th>\n",
       "      <td>http://dbpedia.org/resource/Nikola_Jokic</td>\n",
       "      <td>Nikola Jokic</td>\n",
       "      <td>Person</td>\n",
       "      <td>1995.0</td>\n",
       "      <td>$33,047,803</td>\n",
       "      <td>http://dbpedia.org/resource/Denver_Nuggets</td>\n",
       "      <td>C</td>\n",
       "      <td>https://cdn.hoopshype.com/i/b1/40/fc/nikola-jo...</td>\n",
       "      <td>NaN</td>\n",
       "    </tr>\n",
       "    <tr>\n",
       "      <th>3</th>\n",
       "      <td>http://dbpedia.org/resource/Jimmy_Butler</td>\n",
       "      <td>Jimmy Butler</td>\n",
       "      <td>Person</td>\n",
       "      <td>1989.0</td>\n",
       "      <td>$37,653,300</td>\n",
       "      <td>http://dbpedia.org/resource/Miami_Heat</td>\n",
       "      <td>G</td>\n",
       "      <td>https://cdn.hoopshype.com/i/87/69/21/jimmy-but...</td>\n",
       "      <td>NaN</td>\n",
       "    </tr>\n",
       "    <tr>\n",
       "      <th>4</th>\n",
       "      <td>http://dbpedia.org/resource/Joel_Embiid</td>\n",
       "      <td>Joel Embiid</td>\n",
       "      <td>Person</td>\n",
       "      <td>1994.0</td>\n",
       "      <td>$33,616,770</td>\n",
       "      <td>http://dbpedia.org/resource/Philadelphia_76ers</td>\n",
       "      <td>C</td>\n",
       "      <td>https://cdn.hoopshype.com/i/a7/69/65/joel-embi...</td>\n",
       "      <td>NaN</td>\n",
       "    </tr>\n",
       "  </tbody>\n",
       "</table>\n",
       "</div>"
      ],
      "text/plain": [
       "                                                 _id                  label  \\\n",
       "0  http://dbpedia.org/resource/Giannis_Antetokounmpo  Giannis Antetokounmpo   \n",
       "1           http://dbpedia.org/resource/Jayson_Tatum           Jayson Tatum   \n",
       "2           http://dbpedia.org/resource/Nikola_Jokic           Nikola Jokic   \n",
       "3           http://dbpedia.org/resource/Jimmy_Butler           Jimmy Butler   \n",
       "4            http://dbpedia.org/resource/Joel_Embiid            Joel Embiid   \n",
       "\n",
       "    _type  birthYear       salary  \\\n",
       "0  Person     1994.0  $42,492,492   \n",
       "1  Person     1998.0  $30,351,780   \n",
       "2  Person     1995.0  $33,047,803   \n",
       "3  Person     1989.0  $37,653,300   \n",
       "4  Person     1994.0  $33,616,770   \n",
       "\n",
       "                                         playsFor position  \\\n",
       "0     http://dbpedia.org/resource/Milwaukee_Bucks      F-G   \n",
       "1      http://dbpedia.org/resource/Boston_Celtics        F   \n",
       "2      http://dbpedia.org/resource/Denver_Nuggets        C   \n",
       "3          http://dbpedia.org/resource/Miami_Heat        G   \n",
       "4  http://dbpedia.org/resource/Philadelphia_76ers        C   \n",
       "\n",
       "                                           thumbnail hasPlayers  \n",
       "0  https://cdn.hoopshype.com/i/5d/8b/62/giannis-a...        NaN  \n",
       "1  https://cdn.hoopshype.com/i/f0/1c/c3/jayson-ta...        NaN  \n",
       "2  https://cdn.hoopshype.com/i/b1/40/fc/nikola-jo...        NaN  \n",
       "3  https://cdn.hoopshype.com/i/87/69/21/jimmy-but...        NaN  \n",
       "4  https://cdn.hoopshype.com/i/a7/69/65/joel-embi...        NaN  "
      ]
     },
     "execution_count": 2,
     "metadata": {},
     "output_type": "execute_result"
    }
   ],
   "source": [
    "df1.head()"
   ]
  },
  {
   "cell_type": "code",
   "execution_count": 3,
   "metadata": {},
   "outputs": [],
   "source": [
    "df1.to_csv('../data_backup/hoopshype.csv', encoding='utf-8', index=False)"
   ]
  },
  {
   "cell_type": "code",
   "execution_count": 4,
   "metadata": {},
   "outputs": [
    {
     "data": {
      "text/html": [
       "<div>\n",
       "<style scoped>\n",
       "    .dataframe tbody tr th:only-of-type {\n",
       "        vertical-align: middle;\n",
       "    }\n",
       "\n",
       "    .dataframe tbody tr th {\n",
       "        vertical-align: top;\n",
       "    }\n",
       "\n",
       "    .dataframe thead th {\n",
       "        text-align: right;\n",
       "    }\n",
       "</style>\n",
       "<table border=\"1\" class=\"dataframe\">\n",
       "  <thead>\n",
       "    <tr style=\"text-align: right;\">\n",
       "      <th></th>\n",
       "      <th>_id</th>\n",
       "      <th>label</th>\n",
       "      <th>_type</th>\n",
       "      <th>hasRating</th>\n",
       "      <th>birthCountry</th>\n",
       "      <th>graduatedFrom</th>\n",
       "      <th>hasAlumni</th>\n",
       "    </tr>\n",
       "  </thead>\n",
       "  <tbody>\n",
       "    <tr>\n",
       "      <th>0</th>\n",
       "      <td>http://dbpedia.org/resource/Giannis_Antetokounmpo</td>\n",
       "      <td>Giannis Antetokounmpo</td>\n",
       "      <td>Person</td>\n",
       "      <td>97.0</td>\n",
       "      <td>http://dbpedia.org/resource/Greece</td>\n",
       "      <td>NaN</td>\n",
       "      <td>NaN</td>\n",
       "    </tr>\n",
       "    <tr>\n",
       "      <th>1</th>\n",
       "      <td>http://dbpedia.org/resource/Jayson_Tatum</td>\n",
       "      <td>Jayson Tatum</td>\n",
       "      <td>Person</td>\n",
       "      <td>95.0</td>\n",
       "      <td>http://dbpedia.org/resource/United_States</td>\n",
       "      <td>http://dbpedia.org/resource/Duke_University</td>\n",
       "      <td>NaN</td>\n",
       "    </tr>\n",
       "    <tr>\n",
       "      <th>2</th>\n",
       "      <td>http://dbpedia.org/resource/Kawhi_Leonard</td>\n",
       "      <td>Kawhi Leonard</td>\n",
       "      <td>Person</td>\n",
       "      <td>95.0</td>\n",
       "      <td>http://dbpedia.org/resource/United_States</td>\n",
       "      <td>http://dbpedia.org/resource/San_Diego_State_Un...</td>\n",
       "      <td>NaN</td>\n",
       "    </tr>\n",
       "    <tr>\n",
       "      <th>3</th>\n",
       "      <td>http://dbpedia.org/resource/Joel_Embiid</td>\n",
       "      <td>Joel Embiid</td>\n",
       "      <td>Person</td>\n",
       "      <td>96.0</td>\n",
       "      <td>http://dbpedia.org/resource/Cameroon</td>\n",
       "      <td>http://dbpedia.org/resource/Kansas_University</td>\n",
       "      <td>NaN</td>\n",
       "    </tr>\n",
       "    <tr>\n",
       "      <th>4</th>\n",
       "      <td>http://dbpedia.org/resource/Jimmy_Butler</td>\n",
       "      <td>Jimmy Butler</td>\n",
       "      <td>Person</td>\n",
       "      <td>93.0</td>\n",
       "      <td>http://dbpedia.org/resource/United_States</td>\n",
       "      <td>http://dbpedia.org/resource/Marquette_University</td>\n",
       "      <td>NaN</td>\n",
       "    </tr>\n",
       "  </tbody>\n",
       "</table>\n",
       "</div>"
      ],
      "text/plain": [
       "                                                 _id                  label  \\\n",
       "0  http://dbpedia.org/resource/Giannis_Antetokounmpo  Giannis Antetokounmpo   \n",
       "1           http://dbpedia.org/resource/Jayson_Tatum           Jayson Tatum   \n",
       "2          http://dbpedia.org/resource/Kawhi_Leonard          Kawhi Leonard   \n",
       "3            http://dbpedia.org/resource/Joel_Embiid            Joel Embiid   \n",
       "4           http://dbpedia.org/resource/Jimmy_Butler           Jimmy Butler   \n",
       "\n",
       "    _type  hasRating                               birthCountry  \\\n",
       "0  Person       97.0         http://dbpedia.org/resource/Greece   \n",
       "1  Person       95.0  http://dbpedia.org/resource/United_States   \n",
       "2  Person       95.0  http://dbpedia.org/resource/United_States   \n",
       "3  Person       96.0       http://dbpedia.org/resource/Cameroon   \n",
       "4  Person       93.0  http://dbpedia.org/resource/United_States   \n",
       "\n",
       "                                       graduatedFrom hasAlumni  \n",
       "0                                                NaN       NaN  \n",
       "1        http://dbpedia.org/resource/Duke_University       NaN  \n",
       "2  http://dbpedia.org/resource/San_Diego_State_Un...       NaN  \n",
       "3      http://dbpedia.org/resource/Kansas_University       NaN  \n",
       "4   http://dbpedia.org/resource/Marquette_University       NaN  "
      ]
     },
     "execution_count": 4,
     "metadata": {},
     "output_type": "execute_result"
    }
   ],
   "source": [
    "import pandas as pd\n",
    "\n",
    "with open('../data_backup/twoK.json', encoding='utf-8') as inputfile:\n",
    "    df2 = pd.read_json(inputfile)\n",
    "\n",
    "df2.head()"
   ]
  },
  {
   "cell_type": "code",
   "execution_count": 5,
   "metadata": {},
   "outputs": [],
   "source": [
    "df2.to_csv('../data_backup/twoK.csv', encoding='utf-8', index=False)"
   ]
  },
  {
   "cell_type": "markdown",
   "metadata": {},
   "source": [
    "### Ground Truth"
   ]
  },
  {
   "cell_type": "code",
   "execution_count": 6,
   "metadata": {},
   "outputs": [],
   "source": [
    "from random import randint\n",
    "\n",
    "seen = set()\n",
    "li = []\n",
    "\n",
    "x, y = randint(0, 489), randint(0, 535)\n",
    "\n",
    "\n",
    "for i in range(0, 100):\n",
    "    seen.add((x, y))\n",
    "    li.append([x, y])      \n",
    "    x, y = randint(0, 490), randint(0, 536)\n",
    "    \n",
    "    while (x, y) in seen:\n",
    "        x, y = randint(0, 490), randint(0, 536)\n",
    "\n"
   ]
  },
  {
   "cell_type": "code",
   "execution_count": 7,
   "metadata": {},
   "outputs": [],
   "source": [
    "with open('dev.csv', 'w') as file:\n",
    "    for l in li:\n",
    "        file.write(str(l[0]) + ',' + str(l[1]) + ',0')\n",
    "        file.write('\\n')  \n"
   ]
  },
  {
   "cell_type": "code",
   "execution_count": 8,
   "metadata": {},
   "outputs": [],
   "source": [
    "import rltk\n",
    "import csv\n",
    "\n",
    "# You can use this tokenizer in case you need to manipulate some data\n",
    "tokenizer = rltk.tokenizer.crf_tokenizer.crf_tokenizer.CrfTokenizer()"
   ]
  },
  {
   "cell_type": "code",
   "execution_count": 9,
   "metadata": {},
   "outputs": [],
   "source": [
    "'''\n",
    "Hoopshype\n",
    "    id: _id\n",
    "    label: label\n",
    "    type: _type\n",
    "    birthYear: birthYear\n",
    "    salary: salary\n",
    "    position: position\n",
    "    thumbnail: thumbnail\n",
    "    hasPlayers: hasPlayers\n",
    "\n",
    "2K\n",
    "    id: _id\n",
    "    label: label\n",
    "    type: _type\n",
    "    hasRating: hasRating\n",
    "    birthCountry: birthCountry\n",
    "    graduatedFrom: graduatedFrom\n",
    "    hasAlumni: hasAlumni\n",
    "\n",
    "'''\n",
    "\n",
    "class HoopshypeRecord(rltk.Record):\n",
    "    def __init__(self, raw_object):\n",
    "        super().__init__(raw_object)\n",
    "        self.name = ''\n",
    "\n",
    "    @rltk.cached_property\n",
    "    def id(self):\n",
    "        return self.raw_object['_id']\n",
    "\n",
    "    @rltk.cached_property\n",
    "    def name_string(self):\n",
    "        return self.raw_object['label']\n",
    "\n",
    "    @rltk.cached_property\n",
    "    def type(self):\n",
    "        return self.raw_object['_type']\n",
    "\n",
    "    @rltk.cached_property\n",
    "    def birthYear(self):\n",
    "        return self.raw_object['birthYear']\n",
    "    \n",
    "    @rltk.cached_property\n",
    "    def salary(self):\n",
    "        return self.raw_object['salary']\n",
    "\n",
    "    @rltk.cached_property\n",
    "    def position(self):\n",
    "        return self.raw_object['position']\n",
    "    \n",
    "    @rltk.cached_property\n",
    "    def thumbnail(self):\n",
    "        return self.raw_object['thumbnail']   \n",
    "\n",
    "    @rltk.cached_property\n",
    "    def hasPlayers(self):\n",
    "        return self.raw_object['hasPlayers']   \n",
    "\n",
    "    @rltk.cached_property\n",
    "    def name_tokens(self):\n",
    "        return set(tokenizer.tokenize(self.name_string))\n",
    "\n",
    "class TwoKRecord(rltk.Record):\n",
    "    def __init__(self, raw_object):\n",
    "        super().__init__(raw_object)\n",
    "        self.name = ''\n",
    "\n",
    "    @rltk.cached_property\n",
    "    def id(self):\n",
    "        return self.raw_object['_id']\n",
    "\n",
    "    @rltk.cached_property\n",
    "    def name_string(self):\n",
    "        return self.raw_object['label']\n",
    "    \n",
    "    @rltk.cached_property\n",
    "    def type(self):\n",
    "        return self.raw_object['_type']\n",
    "\n",
    "    @rltk.cached_property\n",
    "    def rating(self):\n",
    "        return self.raw_object['hasRating']\n",
    "    \n",
    "    @rltk.cached_property\n",
    "    def birthCountry(self):\n",
    "        return self.raw_object['birthCountry']\n",
    "    \n",
    "    @rltk.cached_property\n",
    "    def graduatedFrom(self):\n",
    "        return self.raw_object['graduatedFrom']\n",
    "\n",
    "    @rltk.cached_property\n",
    "    def hasAlumni(self):\n",
    "        return self.raw_object['hasAlumni']\n",
    "    "
   ]
  },
  {
   "cell_type": "code",
   "execution_count": 10,
   "metadata": {},
   "outputs": [],
   "source": [
    "dir_ = '../data_backup/'\n",
    "hoopshype_file = dir_ + 'hoopshype.csv'\n",
    "twoK_file = dir_ + 'twoK.csv'\n",
    "\n",
    "ds1 = rltk.Dataset(rltk.CSVReader(hoopshype_file),record_class=HoopshypeRecord)\n",
    "ds2 = rltk.Dataset(rltk.CSVReader(twoK_file),record_class=TwoKRecord)"
   ]
  },
  {
   "cell_type": "markdown",
   "metadata": {},
   "source": [
    "### Ground Truth"
   ]
  },
  {
   "cell_type": "code",
   "execution_count": 11,
   "metadata": {},
   "outputs": [
    {
     "name": "stdout",
     "output_type": "stream",
     "text": [
      "Column names are: hoopshype_id, twoK_id, label\n",
      "Processed 154 lines.\n"
     ]
    }
   ],
   "source": [
    "dev_set_file = dir_ + 'dev_.csv'\n",
    "dev = []\n",
    "with open(dev_set_file, encoding='utf-8', errors=\"replace\") as csv_file:\n",
    "    csv_reader = csv.reader(csv_file, delimiter=',')\n",
    "    line_count = 0\n",
    "    for row in csv_reader:\n",
    "        if len(row) <= 1:\n",
    "            continue\n",
    "        if line_count == 0:\n",
    "            columns = row\n",
    "            line_count += 1\n",
    "        else:\n",
    "            dev.append(row)\n",
    "    print(f'Column names are: {\", \".join(columns)}')\n",
    "    print(f'Processed {len(dev)} lines.')"
   ]
  },
  {
   "cell_type": "code",
   "execution_count": 12,
   "metadata": {},
   "outputs": [
    {
     "name": "stdout",
     "output_type": "stream",
     "text": [
      "None\n"
     ]
    }
   ],
   "source": [
    "print(ds1.get_record(\"http://dbpedia.org/resource/Kelly_Oubre_Jr.\"))"
   ]
  },
  {
   "cell_type": "code",
   "execution_count": 13,
   "metadata": {},
   "outputs": [
    {
     "name": "stdout",
     "output_type": "stream",
     "text": [
      "0\n",
      "1\n",
      "2\n",
      "3\n"
     ]
    },
    {
     "data": {
      "text/plain": [
       "<rltk.evaluation.trial.Trial at 0x7fb9832bf0a0>"
      ]
     },
     "execution_count": 13,
     "metadata": {},
     "output_type": "execute_result"
    }
   ],
   "source": [
    "i = 0\n",
    "\n",
    "gt = rltk.GroundTruth()\n",
    "for row in dev:    \n",
    "    r1 = ds1.get_record(row[0])\n",
    "    r2  = ds2.get_record(row[1])\n",
    "    if r1 and r2:\n",
    "        if row[-1] == '1':\n",
    "            gt.add_positive(r1.raw_object['_id'], r2.raw_object['_id'])\n",
    "        else:\n",
    "            gt.add_negative(r1.raw_object['_id'], r2.raw_object['_id'])\n",
    "    else:\n",
    "        print(i)\n",
    "        i += 1\n",
    "\n",
    "rltk.Trial(gt)"
   ]
  },
  {
   "cell_type": "markdown",
   "metadata": {},
   "source": [
    "### Blocking"
   ]
  },
  {
   "cell_type": "code",
   "execution_count": 14,
   "metadata": {},
   "outputs": [],
   "source": [
    "def reduction_ratio(ds1, ds2, block):\n",
    "    \"\"\"\n",
    "    Calculate reduction ratio based on two original datasets and the final blocks\n",
    "    \"\"\"\n",
    "    block_pairs = len(list(rltk.get_record_pairs(ds1, ds2, block=block)))\n",
    "\n",
    "    ds1_size = len(ds1.generate_dataframe())\n",
    "    ds2_size = len(ds2.generate_dataframe())\n",
    "\n",
    "    ratio = float((block_pairs) / (ds1_size * ds2_size))\n",
    "\n",
    "    print('Total pairs before blocking: %s', ds1_size * ds2_size)\n",
    "    print('Pairs after blocking: %s', block_pairs)\n",
    "    print('Reduction Ratio: %s', ratio)\n",
    "    return ratio"
   ]
  },
  {
   "cell_type": "code",
   "execution_count": 15,
   "metadata": {},
   "outputs": [
    {
     "name": "stdout",
     "output_type": "stream",
     "text": [
      "--- block on type ---\n",
      "----------------------\n",
      "Total pairs before blocking: %s 285180\n",
      "Pairs after blocking: %s 201480\n",
      "Reduction Ratio: %s 0.7065011571638965\n"
     ]
    },
    {
     "data": {
      "text/plain": [
       "0.7065011571638965"
      ]
     },
     "execution_count": 15,
     "metadata": {},
     "output_type": "execute_result"
    }
   ],
   "source": [
    "print('--- block on type ---')\n",
    "bg = rltk.HashBlockGenerator()\n",
    "block = bg.generate(bg.block(ds1, property_='type'),\n",
    "                    bg.block(ds2, property_='type'))\n",
    "\n",
    "print('----------------------')\n",
    "\n",
    "reduction_ratio(ds1, ds2, block)"
   ]
  },
  {
   "cell_type": "markdown",
   "metadata": {},
   "source": [
    "### Entity Linking"
   ]
  },
  {
   "cell_type": "code",
   "execution_count": 16,
   "metadata": {},
   "outputs": [],
   "source": [
    "# threshold value to determine if we are confident the record match\n",
    "MY_TRESH = 0.95 # this number is just an example, you need to change it\n",
    "\n",
    "def title_similarity_1(r1, r2):\n",
    "    s1 = r1.name_string\n",
    "    s2 = r2.name_string\n",
    "    \n",
    "    return rltk.jaro_winkler_similarity(s1, s2)\n",
    "    \n",
    "def title_similarity_2(r1, r2):\n",
    "    s1 = r1.name_string\n",
    "    s2 = r2.name_string\n",
    "    \n",
    "    if s1 == s2:\n",
    "        return 1\n",
    "    \n",
    "    return 0\n",
    "\n",
    "\n",
    "def type_similarity_2(r1, r2):\n",
    "    s1 = r1.type\n",
    "    s2 = r2.type\n",
    "    \n",
    "    if s1 == s2:\n",
    "        return 1\n",
    "    \n",
    "    return 0\n",
    "\n",
    "\n",
    "# entity linkage scoring function\n",
    "def rule_based_method(r1, r2, A, B, D):\n",
    "    title_similar = title_similarity_1(r1, r2)\n",
    "    title_exact = title_similarity_2(r1, r2)\n",
    "    type_exact = type_similarity_2(r1, r2)\n",
    "    \n",
    "    total = A * title_similar + B * title_exact + D * type_exact\n",
    "    \n",
    "    # return two values: boolean if they match or not, float to determine confidence\n",
    "    return total > MY_TRESH, total"
   ]
  },
  {
   "cell_type": "code",
   "execution_count": 17,
   "metadata": {},
   "outputs": [
    {
     "name": "stdout",
     "output_type": "stream",
     "text": [
      "Total: 285180\n",
      "Predicted Valid pair: 391\n"
     ]
    }
   ],
   "source": [
    "count = 0\n",
    "\n",
    "groundtruth = {}\n",
    "true_matches_compared = 0\n",
    "matches_compared = 0\n",
    "\n",
    "for id1, id2, label in gt:\n",
    "    if label == 1:\n",
    "        groundtruth[id1] = id2\n",
    "total_true_matches = len(groundtruth)\n",
    "\n",
    "with open(dir_ + 'entity_linking.csv', mode='w') as file:\n",
    "    writer = csv.writer(file, delimiter=',', quotechar='\"', quoting=csv.QUOTE_MINIMAL)\n",
    "    writer.writerow([\"hoopshype.ID\", \"twoK.ID\"])\n",
    "\n",
    "    block_pairs = rltk.get_record_pairs(ds1, ds2)\n",
    "    for r1, r2 in block_pairs:\n",
    "        matches_compared += 1\n",
    "        result, confidence = rule_based_method(r1, r2, A=0.77, B=0.13, D=0.1)\n",
    "\n",
    "        if r1.id in groundtruth and groundtruth[r1.id] == r2.id:\n",
    "            true_matches_compared += 1\n",
    "\n",
    "        if result==1:\n",
    "            count += 1\n",
    "            #writer.writerow((r1.id, r2.id, confidence))\n",
    "            writer.writerow((r1.id, r2.id))\n",
    "\n",
    "\n",
    "print(\"Total: \" + str(matches_compared))\n",
    "print(\"Predicted Valid pair: \" + str(count))\n"
   ]
  },
  {
   "cell_type": "markdown",
   "metadata": {},
   "source": [
    "### Evaluation"
   ]
  },
  {
   "cell_type": "code",
   "execution_count": 18,
   "metadata": {},
   "outputs": [],
   "source": [
    "def pairs_completeness_and_quality(ds1, ds2, block, gt):\n",
    "    \"\"\"\n",
    "    Calculate pairs completeness and quality using the block & groundtruth provided\n",
    "\n",
    "    Returns (completeness, quality)\n",
    "    \"\"\"\n",
    "\n",
    "    groundtruth = {}\n",
    "    true_matches_compared = 0\n",
    "    matches_compared = 0\n",
    "\n",
    "    for id1, id2, label in gt:\n",
    "        if label == 1:\n",
    "            groundtruth[id1] = id2\n",
    "    total_true_matches = len(groundtruth)\n",
    "\n",
    "    for key, id1, id2 in block.pairwise(ds1, ds2):\n",
    "        matches_compared += 1\n",
    "        if id1 in groundtruth and groundtruth[id1] == id2:\n",
    "            true_matches_compared += 1\n",
    "\n",
    "    # Recall\n",
    "    completeness = float(true_matches_compared) / total_true_matches\n",
    "    print('Pairs Completeness = %s / %s  = %s' %(true_matches_compared, total_true_matches, completeness))\n",
    "\n",
    "    # Precision\n",
    "    quality = float(true_matches_compared) / matches_compared\n",
    "    print('Pairs quality = %s / %s = %s' %(true_matches_compared, matches_compared, quality))\n",
    "\n",
    "    return (completeness, quality)"
   ]
  },
  {
   "cell_type": "code",
   "execution_count": 19,
   "metadata": {},
   "outputs": [
    {
     "name": "stdout",
     "output_type": "stream",
     "text": [
      "Pairs Completeness = 50 / 50  = 1.0\n",
      "Pairs quality = 50 / 201480 = 0.00024816358943815766\n"
     ]
    }
   ],
   "source": [
    "(_,_) = pairs_completeness_and_quality(ds1, ds2, block, gt)"
   ]
  },
  {
   "cell_type": "code",
   "execution_count": 20,
   "metadata": {},
   "outputs": [
    {
     "name": "stdout",
     "output_type": "stream",
     "text": [
      "---------------\n",
      "Total pair compared: 150\n",
      "Trial statistics based on Ground-Truth from development set data:\n",
      "tp: 0.880000 [44]\n",
      "fp: 0.000000 [0]\n",
      "tn: 1.000000 [100]\n",
      "fn: 0.120000 [6]\n",
      "---------------\n",
      "F-score: 0.9361702127659575\n"
     ]
    }
   ],
   "source": [
    "count = 0\n",
    "\n",
    "trial = rltk.Trial(gt)\n",
    "candidate_pairs = rltk.get_record_pairs(ds1, ds2, ground_truth=gt)\n",
    "for r1, r2 in candidate_pairs:\n",
    "    count += 1\n",
    "    result, confidence = rule_based_method(r1, r2, A=0.77, B=0.13, D=0.1)\n",
    "    trial.add_result(r1, r2, result, confidence)\n",
    "\n",
    "print('---------------')\n",
    "print('Total pair compared: %s' % count)\n",
    "trial.evaluate()\n",
    "print('Trial statistics based on Ground-Truth from development set data:')\n",
    "print(f'tp: {trial.true_positives:.06f} [{len(trial.true_positives_list)}]')\n",
    "print(f'fp: {trial.false_positives:.06f} [{len(trial.false_positives_list)}]')\n",
    "print(f'tn: {trial.true_negatives:.06f} [{len(trial.true_negatives_list)}]')\n",
    "print(f'fn: {trial.false_negatives:.06f} [{len(trial.false_negatives_list)}]')\n",
    "\n",
    "print('---------------')\n",
    "print('F-score: %s' % trial.f_measure)"
   ]
  },
  {
   "cell_type": "markdown",
   "metadata": {},
   "source": []
  }
 ],
 "metadata": {
  "kernelspec": {
   "display_name": "Python 3.8.6 64-bit",
   "language": "python",
   "name": "python3"
  },
  "language_info": {
   "codemirror_mode": {
    "name": "ipython",
    "version": 3
   },
   "file_extension": ".py",
   "mimetype": "text/x-python",
   "name": "python",
   "nbconvert_exporter": "python",
   "pygments_lexer": "ipython3",
   "version": "3.8.6"
  },
  "orig_nbformat": 4,
  "vscode": {
   "interpreter": {
    "hash": "949777d72b0d2535278d3dc13498b2535136f6dfe0678499012e853ee9abcab1"
   }
  }
 },
 "nbformat": 4,
 "nbformat_minor": 2
}
